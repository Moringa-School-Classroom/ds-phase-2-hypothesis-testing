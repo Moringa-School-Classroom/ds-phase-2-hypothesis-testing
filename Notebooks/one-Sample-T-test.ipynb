{
 "cells": [
  {
   "attachments": {},
   "cell_type": "markdown",
   "metadata": {},
   "source": [
    "# One-Sample t-test\n",
    "\n",
    "A one-sample t-test is a statistical test used to determine whether a sample mean is significantly different from a known or hypothesized population mean. \n",
    "\n",
    "The null hypothesis for a one-sample t-test is that there is no significant difference between the sample mean and the population mean. The alternative hypothesis is that there is a significant difference between the two means.\n",
    "\n",
    "The test statistic for a one-sample t-test is calculated as:"
   ]
  },
  {
   "attachments": {},
   "cell_type": "markdown",
   "metadata": {},
   "source": [
    "![t-test](../images/t(1).png)"
   ]
  },
  {
   "attachments": {},
   "cell_type": "markdown",
   "metadata": {},
   "source": [
    "The assumptions for a one-sample t-test include:\n",
    "\n",
    ">>>1. The sample is randomly selected from the population of interest.\n",
    ">>>2. The data is normally distributed or the sample size is large enough for the central limit theorem to apply.\n",
    ">>>3. The observations in the sample are independent.\n",
    ">>>4. The population standard deviation is unknown or not assumed to be known."
   ]
  },
  {
   "attachments": {},
   "cell_type": "markdown",
   "metadata": {},
   "source": [
    "## Example "
   ]
  },
  {
   "cell_type": "code",
   "execution_count": 1,
   "metadata": {},
   "outputs": [
    {
     "name": "stdout",
     "output_type": "stream",
     "text": [
      "t-statistic: 3.653065421546637\n",
      "p-value: 0.0016912844341465672\n"
     ]
    }
   ],
   "source": [
    "import numpy as np\n",
    "from math import sqrt\n",
    "from scipy.stats import t\n",
    "\n",
    "# Create a sample of 20 observations\n",
    "sample = np.random.normal(loc=10, scale=2, size=20)\n",
    "\n",
    "# Set the hypothesized population mean to 8\n",
    "hypothesized_mean = 8\n",
    "\n",
    "# Calculate the sample mean and standard deviation\n",
    "sample_mean = np.mean(sample)\n",
    "sample_std = np.std(sample, ddof=1)  # Use ddof=1 for unbiased estimate of sample standard deviation\n",
    "\n",
    "# Calculate the t-statistic\n",
    "t_stat = (sample_mean - hypothesized_mean) / (sample_std / sqrt(len(sample)))\n",
    "\n",
    "# Calculate the degrees of freedom for the t-distribution\n",
    "df = len(sample) - 1\n",
    "\n",
    "# Calculate the p-value using the t-distribution\n",
    "p_value = 2 * (1 - t.cdf(abs(t_stat), df))  # Use 2-sided t-test\n",
    "\n",
    "# Print the results\n",
    "print(\"t-statistic:\", t_stat)\n",
    "print(\"p-value:\", p_value)"
   ]
  },
  {
   "cell_type": "code",
   "execution_count": null,
   "metadata": {},
   "outputs": [],
   "source": []
  }
 ],
 "metadata": {
  "kernelspec": {
   "display_name": "Python 3",
   "language": "python",
   "name": "python3"
  },
  "language_info": {
   "codemirror_mode": {
    "name": "ipython",
    "version": 3
   },
   "file_extension": ".py",
   "mimetype": "text/x-python",
   "name": "python",
   "nbconvert_exporter": "python",
   "pygments_lexer": "ipython3",
   "version": "3.10.10"
  },
  "orig_nbformat": 4,
  "vscode": {
   "interpreter": {
    "hash": "e7370f93d1d0cde622a1f8e1c04877d8463912d04d973331ad4851f04de6915a"
   }
  }
 },
 "nbformat": 4,
 "nbformat_minor": 2
}
