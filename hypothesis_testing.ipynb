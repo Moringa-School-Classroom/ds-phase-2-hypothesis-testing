{
 "cells": [
  {
   "attachments": {},
   "cell_type": "markdown",
   "metadata": {},
   "source": [
    "![hypothesis_testing](images/santa.png)\n",
    "\n",
    "\n",
    "[image from pixels](https://www.freepik.com/free-vector/hand-drawn-cheerful-santa-claus-carrying-presents-sack_3382722.htm#query=santa%20claus&position=1&from_view=keyword)"
   ]
  },
  {
   "attachments": {},
   "cell_type": "markdown",
   "metadata": {},
   "source": [
    "## Objectives\n",
    "\n",
    "* Describe Hypothesis testing.\n",
    "* Define vocabulary related to hypothesis Testing.\n",
    "* Explain the steps of a Hypothesis Test."
   ]
  },
  {
   "attachments": {},
   "cell_type": "markdown",
   "metadata": {},
   "source": [
    "## Motivation for Hypothesis Testing.\n",
    "\n",
    "![mic-check](images/micCheck.png)\n",
    "\n",
    "Ordinarily, when we tend to turn to science if we want to determine a certain phenomenon about the exists in the world. Science is built upon the idea of testing this phenomenon through conducting experiments so as to learn about the same phenomenon.\n",
    "\n",
    "Statistics and Data science employ the same techniques through a statistical process that we call **hypothesis test**. \n",
    "\n",
    "### Experiment Design \n",
    "\n",
    "Experiments are how we get data needed to determine if indeed the observations made are worthwhile. Whenever you have a poorly designed experiment, you will most definitely have wrong results and inturn the insights you generate.\n",
    "\n",
    "   >> 📝 \n",
    "   We typically use the term *experiment* when doing a hypothesis test which tend to be a little confusing when the data has been collected before any other step. This should be fine but be should consider if this experiment follows a general criteria of a \"good\" design.\n",
    "\n",
    "### The Scientific Method\n",
    "\n",
    "One should consider if the question you're looking to answer can be investigated with the **scientific method**. There is no completely agreed upon \"scientific method\" but the following should help us know if we're on the right track:\n",
    "\n",
    "* Question/Observation\n",
    "* Background Knowledge\n",
    "* Hypothesis formulating \n",
    "* Experiment and Data Collection\n",
    "* Analysis\n",
    "* Draw Conclusions \n",
    "\n",
    "### Making a Good Experiment\n",
    "\n",
    "Although unrealistic, we strive to make a perfectly designed experiment that would test every possible answer to a question. An experiment doesn't have to fulfill everything to still be useful, though the more items off the checkoff list the more certain of the results. Below are a few items to consider for a good experiment:\n",
    "\n",
    "**Treatment Group**\n",
    ">>In the design of experiments, hypotheses are applied to experimental units in a treatment group.\n",
    "\n",
    "**Control Groups**\n",
    ">>Refers to the standard to which comparisons are made in an experiment. The members of a control group receive a standard treatment, a placebo, or no treatment at all. Your experiment should consider other factors that could affect the outcome and try to account for (or control) those factors.\n",
    "\n",
    "**Random Trials** \n",
    ">>By having random trials/samples, you're less likely to have bias in your observations/data.\n",
    "\n",
    "**Sample Size**\n",
    ">>A large enough sample size that we can reasonably extrapolate to the population of interest.\n",
    "\n",
    "**Reproducible**\n",
    ">>Being able to reproduce the experiment mean we can test again and again to ensure that the results obtained and valid."
   ]
  },
  {
   "attachments": {},
   "cell_type": "markdown",
   "metadata": {},
   "source": [
    "## Hypothesis Testing\n",
    "\n",
    "### What is a hypothesis Test?\n",
    "\n",
    "This is a statistical procedure, that allows you to use a sample to draw conclusions about an entire population by evaluating two mutually exclusive statements about the population and determines which statement the data supports. These two statements are the hypotheses that the procedure tests. \n",
    "\n",
    "### Intuition Behind Hypothesis Test\n",
    "Suppose we gather a sample data, and we then want to find out whether the sample is a good representation of some known population. How can we then make an appropriate guess about how representative the sample is of that population?\n",
    "\n",
    "### Scenario\n",
    "Imagine we're driving down the road of our hometown and see a local high school's school bus broken down at the side of the road. All of the students are safely waiting outside of the bus and you notice that they seem a bit on the taller side.\n",
    "\n",
    "You wonder if these students are representative of the full student body or are particularly special in terms of height (maybe they could all be on the basketball team 🏀).\n",
    "\n",
    "We can quantify how _\"weird\"_ this group is compared to the student body knowing/measuring the means and standard deviations of the population and sample.\n",
    "\n",
    "> This is at heart what hypothesis testing is: ***\"Does our sample come from the population or is it a special set?\"***\n",
    "\n",
    "Suppose we already know that high school students are on average $65$ inches with a standard deviation of $3$ inches.\n",
    "\n",
    "If we measured everyone on that bus, we would have found that their average height was $73$ inches. Through standardization, we know then the $z$-score for these particular students is $\\frac{73-65}{3}=\\frac{8}{3}\\approx 2.7$.\n",
    "\n",
    "According to the empirical (68–95–99.7) rule for normal distributions there is only roughly a $0.1\\%$ chance that the sample came from the same population, because it is roughly 3 standard deviations above the mean. \n",
    "\n",
    "\n",
    "Seems unlikely that these students aren't a special subset of the student population.\n",
    "\n",
    "<div>\n",
    "<img src=\"images/normal_sd_new.png\" width=\"500\"/>\n",
    "</div>"
   ]
  },
  {
   "attachments": {},
   "cell_type": "markdown",
   "metadata": {},
   "source": [
    "## Hypothesis Testing Vocabulary\n",
    "\n",
    "### Effect\n",
    "\n",
    "This refers to the difference between the population value and the null hypothesis value, also known as the *population effect* or *difference*.\n",
    "Example: *The mean difference between the health outcome for a treatment group and a control group is the effect*\n",
    "\n",
    "### Significance Level (Alpha $\\alpha$)\n",
    "\n",
    "Defines how strong the sample evidence must be to conclude an effect exists in the population. It acts as an evidentiary standard that researchers set before the study. It specifies how\n",
    "strongly the sample evidence must contradict the null hypothesis before you can reject the null for the entire population. \n",
    "Example: *A significance level of 0.05 signifies a 5% risk of deciding that an effect exists when it does not exist*.\n",
    "\n",
    "### P-values\n",
    "\n",
    "Indicates the strength of sample evidence agaist the null hypothesis where, if it is less than the significance level, your results are statistically significant. \n",
    "\n",
    "P-values tell you how strongly your sample data contradict the null where lower p-values represent stronger evidence against the null.\n",
    "\n",
    "Statistical terminology for making the decision to accept or reject null hypothesis:\n",
    "\n",
    "* When the p-value is less than or equal to the significance level, you reject the null hypothesis.\n",
    "* When the p-value is greater than the significance level, you fail to reject the null hypothesis.\n",
    "\n",
    "### Statistical Significance\n",
    "\n",
    "When your P-value is less than the significance level, your results are statistically significant. This condition indicates the strength of the evidence in your sample (*p-value*) exceeds the evidentiary standard you defined (*significance level*).\n",
    "\n",
    "### Confidence intervals (CIs)\n",
    "\n",
    "In inferential statistics, a principal goal is to estimate population parameters. These parameters are the unknown values for the entire\n",
    "population, such as the population mean and standard deviation. These parameter values are not only unknown but almost always unknowable. Typically, it’s impossible to measure an entire population. The sampling error I mentioned earlier produces uncertainty, or a margin of error, around our estimates.\n",
    "\n",
    "Confidence intervals incorporate the uncertainty and sample error to create a range of values the actual population value is like to fall within. For example, a confidence interval of [176 186] indicates that we can be confident that the real population mean falls within this range."
   ]
  },
  {
   "attachments": {},
   "cell_type": "markdown",
   "metadata": {},
   "source": [
    "## Steps of a Hypothesis Test\n",
    "\n",
    "A high-level understanding of what hypothesis test will look like entails the following:\n",
    "\n",
    "1. Start with a Scientific Question(yes/no)\n",
    "2. Take the skeptical stance (**null hypothesis**)\n",
    "3. State the complement (**alternative hypothesis**)\n",
    "4. Set a threshold for errors (**$\\alpha$ significance level**)\n",
    "5. Create a model (*test statistic*) of the situation *assuming the null hypothesis is true*\n",
    "6. Decide whether or not to *reject the null hypothesis* by comparing the *threshold* and *test statistic* \n",
    "\n",
    "### Steps of a Hypothesis Test\n",
    "\n",
    "The general steps of hypothesis test (here we are going to focus on the one-sample z-test)\n",
    "1. State the null hypothesis and the alternative hypothesis\n",
    "2. Use the alternative hypothesis to identiy the type of test.\n",
    "3. Specify significance level ($\\alpha$)\n",
    "4. Calculate test statistic (z-statistic)\n",
    "5. Calculate p-value\n",
    "6. Interpret p-value (reject or fail to reject the null hypothesis)\n"
   ]
  },
  {
   "attachments": {},
   "cell_type": "markdown",
   "metadata": {},
   "source": [
    "### Step 1: State the Null and Alternate Hypothesis\n",
    "\n"
   ]
  },
  {
   "attachments": {},
   "cell_type": "markdown",
   "metadata": {},
   "source": [
    "In hypothesis testing the first step is to state clearly the **null hypothesis** denoted as **$H_0$** and the **alternative hypothesis** denoted as **$H_1$**. "
   ]
  },
  {
   "attachments": {},
   "cell_type": "markdown",
   "metadata": {},
   "source": [
    "#### Null Hypothesis "
   ]
  },
  {
   "attachments": {},
   "cell_type": "markdown",
   "metadata": {},
   "source": [
    "* The **null hypothesis** ($H_0$) is a statement that assumes there is no significant difference or relationship between two variables.\n",
    "* It is typically written as *\"there is no significant difference between A and B\"* or *\"there is no significant relationship between X and Y.\"*\n",
    "* There is NOTHING, **no** difference.\n",
    "* For example, if we're testing the function of a new drug, then the **null hypothesis** $H_0$ will say something like:\n",
    ">>>>The Drug \"Z\" has *no effect* on the patients. (This means that we are assuming that there is no significant difference in the outcomes between patients who are given the new drug and those who are given a placebo or standard treatment.)\n",
    "* Suppose we are testing whether a new teaching method improves student performance on an exam. The null hypothesis (H0) could be stated as:\n",
    ">>>>The new teaching method has no effect on student performance on the exam. (This means that we are assuming that there is no significant difference in the average exam scores between students who were taught using the new method and those who were taught using the traditional method.)\n"
   ]
  },
  {
   "attachments": {},
   "cell_type": "markdown",
   "metadata": {},
   "source": [
    "#### Alternative Hypothesis"
   ]
  },
  {
   "attachments": {},
   "cell_type": "markdown",
   "metadata": {},
   "source": [
    "* The **alternative hypothesis** $H_1$ or $H_a$ is a statement that contradicts the null hypothesis and suggests that there is a significant difference or relationship between the variables being tested.\n",
    "* It's typically written as *\"there is a significant difference between A and B\"* or *\"there is a significant relationship between X and Y.\"* \n",
    "* Using the New drug example, the null hypothesis will be:\n",
    ">>>> The Drug \"Z\" *decreases* the time of recovery. (📝 Time here is compared versus when a patient is not using the drug)\n",
    "* Going back to the methods of teaching, the alternate hypothesis will be:\n",
    ">>>> The new teaching method improves student performance on the exam. (This means that we are assuming that there is a significant difference in the average exam scores between students who were taught using the new method and those who were taught using the traditional method.)\n"
   ]
  },
  {
   "attachments": {},
   "cell_type": "markdown",
   "metadata": {},
   "source": [
    "#### 💡 Challenge your Intellect\n",
    "\n",
    "* Given The following scenarios, what would be an appropriate null hypothesis and alternative hypothesis for the experiment?"
   ]
  },
  {
   "attachments": {},
   "cell_type": "markdown",
   "metadata": {},
   "source": [
    "1. A drug manufacturer claims that a drug increases memory. It designs an experiment where both control and experimental groups are shown a series of images, and records the number of correct recollections until an error is made for each group."
   ]
  },
  {
   "attachments": {},
   "cell_type": "markdown",
   "metadata": {},
   "source": [
    "<details>\n",
    "    <summary>Answer:</summary>\n",
    "\n",
    "    Null Hypothesis (H0): The drug has no effect on memory recall. The null hypothesis assumes that there is no significant difference in the number of correct recollections until an error is made between the control and experimental groups.\n",
    "\n",
    "    Alternative Hypothesis (H1): The drug increases memory recall. The alternative hypothesis contradicts the null hypothesis and suggests that there is a significant difference in the number of correct recollections until an error is made between the control and experimental groups, with the experimental group performing better due to the drug.\n",
    "\n",
    "If we are to represent the average number of correct recollections for people who took the drug by $\\mu_{exp}$ and the average number of correct recollections for people who did not take the drug by $\\mu_{std}$, then we can express our hypotheses as:\n",
    "\n",
    "$H_0: \\mu_{exp}\\leq\\mu_{std}$ <br/>\n",
    "$H_A: \\mu_{exp}>\\mu_{std}$."
   ]
  },
  {
   "attachments": {},
   "cell_type": "markdown",
   "metadata": {},
   "source": [
    "2. A school district wants to evaluate whether a new teaching method increases student test scores. The study involves randomly assigning students to either the control group (taught using the traditional method) or the experimental group (taught using the new method), and then comparing their test scores."
   ]
  },
  {
   "attachments": {},
   "cell_type": "markdown",
   "metadata": {},
   "source": [
    "<details>\n",
    "    <summary>Answer:</summary>\n",
    "    \n",
    "    Null Hypothesis (H0): The new teaching method has no effect on student test scores. The null hypothesis assumes that there is no significant difference in test scores between the control and experimental groups.\n",
    "\n",
    "    Alternative Hypothesis (H1): The new teaching method increases student test scores. The alternative hypothesis contradicts the null hypothesis and suggests that there is a significant difference in test scores between the control and experimental groups, with the experimental group performing better due to the new method."
   ]
  },
  {
   "attachments": {},
   "cell_type": "markdown",
   "metadata": {},
   "source": [
    "3. A marketing firm wants to test whether a new ad campaign increases sales of a particular product. The study involves running the new ad campaign in certain regions and comparing the sales figures with those of regions where the traditional ad campaign is still being used."
   ]
  },
  {
   "attachments": {},
   "cell_type": "markdown",
   "metadata": {},
   "source": [
    "<details>\n",
    "    <summary>Answer:</summary>\n",
    "    \n",
    "    Null Hypothesis (H0): The new ad campaign has no effect on product sales. The null hypothesis assumes that there is no significant difference in product sales between the regions where the new ad campaign is run and those where the traditional ad campaign is still being used.\n",
    "\n",
    "    Alternative Hypothesis (H1): The new ad campaign increases product sales. The alternative hypothesis contradicts the null hypothesis and suggests that there is a significant difference in product sales between the regions where the new ad campaign is run and those where the traditional ad campaign is still being used, with the new campaign leading to higher sales figures.\n"
   ]
  },
  {
   "attachments": {},
   "cell_type": "markdown",
   "metadata": {},
   "source": [
    "4. An environmental organization wants to evaluate whether a new recycling program increases the amount of waste diverted from landfills. The study involves measuring the amount of waste generated and recycled in a certain period before and after the implementation of the new program."
   ]
  },
  {
   "attachments": {},
   "cell_type": "markdown",
   "metadata": {},
   "source": [
    "<details>\n",
    "    <summary>Answer:</summary>\n",
    "    \n",
    "    Null Hypothesis (H0): The new recycling program has no effect on the amount of waste diverted from landfills. The null hypothesis assumes that there is no significant difference in the amount of waste generated and recycled before and after the implementation of the new program.\n",
    "\n",
    "    Alternative Hypothesis (H1): The new recycling program increases the amount of waste diverted from landfills. The alternative hypothesis contradicts the null hypothesis and suggests that there is a significant difference in the amount of waste generated and recycled before and after the implementation of the new program, with the new program leading to a higher amount of waste being diverted from landfills.\n"
   ]
  },
  {
   "attachments": {},
   "cell_type": "markdown",
   "metadata": {},
   "source": [
    "5. A city council wants to evaluate whether a new traffic control measure reduces accidents at a busy intersection. The study involves collecting accident data for a certain period before and after the implementation of the new measure."
   ]
  },
  {
   "attachments": {},
   "cell_type": "markdown",
   "metadata": {},
   "source": [
    "<details>\n",
    "    <summary>Answer:</summary>\n",
    "\n",
    "    Null Hypothesis (H0): The new traffic control measure has no effect on the number of accidents at the intersection. The null hypothesis assumes that there is no significant difference in the number of accidents before and after the implementation of the new measure.\n",
    "\n",
    "    Alternative Hypothesis (H1): The new traffic control measure reduces the number of accidents at the intersection. The alternative hypothesis contradicts the null hypothesis and suggests that there is a significant difference in the number of accidents before and after the implementation of the new measure, with the new measure leading to a decrease in accidents."
   ]
  },
  {
   "attachments": {},
   "cell_type": "markdown",
   "metadata": {},
   "source": [
    "### Step 2: Use the alternative hypothesis to identiy the type of test."
   ]
  },
  {
   "attachments": {},
   "cell_type": "markdown",
   "metadata": {},
   "source": [
    "The alternative hypothesis specifies the direction of the effect being tested and as such, the alternative hypothesis determines the type of test."
   ]
  },
  {
   "attachments": {},
   "cell_type": "markdown",
   "metadata": {},
   "source": [
    "#### Left Tailed Test"
   ]
  },
  {
   "attachments": {},
   "cell_type": "markdown",
   "metadata": {},
   "source": [
    "* In a left-tailed test, the alternate hypothesis is that the parameter of interest is less than a specific value.\n",
    "* The critical region is located in the left tail of the distribution, and if the test statistic falls in this region, we reject the null hypothesis and conclude that there is evidence to support the alternative hypothesis.\n",
    "* If we are testing whether a new drug has a lower mean blood pressure than an existing drug, the $H_0$ would be that the mean blood pressure for the new drug is greater than or equal to the mean blood pressure for the existing drug.\n",
    "* The $H_a$ would be that the mean blood pressure for the new drug is less than the mean blood pressure for the existing drug. \n",
    "* Mathematically, the null and alternate hypotheses can be expressed as:\n",
    "\n",
    "$H_0: \\mu_{new} \\geq \\mu_{existing}$\n",
    "\n",
    "$H_A: \\mu_{new} < \\mu_{existing}$\n",
    "\n",
    "In this case, the direction of the effect specified in the alternate hypothesis (i.e., that the mean blood pressure for the new drug is less than the mean blood pressure for the existing drug) determines that this is a left-tailed test. The critical region is located entirely in the left tail of the distribution which means that if the test statistic falls in the left tail of the distribution, we will reject the null hypothesis and conclude that there is evidence to support the alternative hypothesis."
   ]
  },
  {
   "attachments": {},
   "cell_type": "markdown",
   "metadata": {},
   "source": [
    "![left-tailed](images/left_tailed.gif)"
   ]
  },
  {
   "attachments": {},
   "cell_type": "markdown",
   "metadata": {},
   "source": [
    "<details>\n",
    "<summary>Summary</summary>\n",
    "\n",
    "$H_1:\\mu_{paramter} < \\mu_{value}$\n",
    "\n",
    "📝 The inequality points to the left\n",
    "\n",
    "**Decision Rule**: Reject $H_O$ if t.s. < c.v  \n",
    "    "
   ]
  },
  {
   "attachments": {},
   "cell_type": "markdown",
   "metadata": {},
   "source": [
    "#### Right Tailed Test"
   ]
  },
  {
   "attachments": {},
   "cell_type": "markdown",
   "metadata": {},
   "source": [
    "* In a right-tailed test, the alternate hypothesis is that the parameter of interest is greater than a specific value.\n",
    "* The critical region is situated in the right tail of the distribution, and if the test statistic falls in this region, we reject the null hypothesis and conclude that there is evidence to support the alternative hypothesis.\n",
    "* If we are testing whether a new fertilizer produces a higher yield of crops than the current fertilizer, the **null hypothesis** would be that *the mean yield for the new fertilizer is less than or equal to the mean yield for the current fertilizer.*\n",
    "* The **alternate hypothesis** would be that *the mean yield for the new fertilizer is greater than the mean yield for the current fertilizer.*\n",
    "* Mathematically, the null and alternate hypotheses can be expressed as:\n",
    "\n",
    "$H_0: \\mu_{new} \\leq \\mu_{current}$\n",
    "\n",
    "$H_A: \\mu_{new} > \\mu_{current}$\n",
    "\n",
    "In this case, the direction of the effect specified in the alternate hypothesis (i.e., that the mean yield for the new fertilizer is greater than the mean yield for the current fertilizer) determines that this is a right-tailed test. The critical region is located entirely in the right tail of the distribution. This means that if the test statistic falls in the right tail of the distribution, we will reject the null hypothesis and conclude that there is evidence to support the alternative hypothesis."
   ]
  },
  {
   "attachments": {},
   "cell_type": "markdown",
   "metadata": {},
   "source": [
    "![right-tailed](images/right-tailed.gif)"
   ]
  },
  {
   "attachments": {},
   "cell_type": "markdown",
   "metadata": {},
   "source": [
    "<details>\n",
    "<summary>Summary</summary>\n",
    "\n",
    "$H_1:\\mu_{paramter} > \\mu_{value}$\n",
    "\n",
    "📝 The inequality points to the right\n",
    "\n",
    "**Decision Rule**: Reject $H_O$ if t.s. > c.v "
   ]
  },
  {
   "attachments": {},
   "cell_type": "markdown",
   "metadata": {},
   "source": [
    "#### Two Tailed Test\n"
   ]
  },
  {
   "attachments": {},
   "cell_type": "markdown",
   "metadata": {},
   "source": [
    "* When conducting a two-tailed test, the alternative hypothesis indicates that the population parameter being tested is different (i.e **not equal**) from a specific value.\n",
    "* The critical region is divided between the two tails of the distribution, and if the test statistic falls in either of these regions, we reject the null hypothesis and conclude that there is evidence to support the alternative hypothesis.\n",
    "* If we are testing whether a new drug affects blood pressure, the **null hypothesis** would be that *the mean blood pressure with the drug is equal to the mean blood pressure without the drug.*\n",
    "* The **alternate hypothesis** would be that *the mean blood pressure with the drug is different from the mean blood pressure without the drug.*\n",
    "* Mathematically, the null and alternate hypotheses can be expressed as:\n",
    "\n",
    "$H_0: \\mu_{with} = \\mu_{without}$\n",
    "\n",
    "$H_A: \\mu_{with} \\neq \\mu_{without}$\n",
    "\n",
    "In this case, the direction of the effect specified in the alternate hypothesis (i.e., that the mean blood pressure with the drug is different from the mean blood pressure without the drug) determines that this is a two-tailed test. The critical region is split between the two tails of the distribution, and if the test statistic falls in either tail, we will reject the null hypothesis and conclude that there is evidence to support the alternative hypothesis."
   ]
  },
  {
   "attachments": {},
   "cell_type": "markdown",
   "metadata": {},
   "source": [
    "![two-tailed](images/two-tailed.gif)"
   ]
  },
  {
   "attachments": {},
   "cell_type": "markdown",
   "metadata": {},
   "source": [
    "<details>\n",
    "<summary>Summary</summary>\n",
    "\n",
    "$H_1:\\mu_{paramter} \\neq \\mu_{value}$\n",
    "\n",
    "📝 The inequality points to the both sides\n",
    "\n",
    "**Decision Rule**: Reject $H_O$ if t.s. > c.v (**right**) or $H_O$ if t.s. < c.v (**left**)  "
   ]
  },
  {
   "attachments": {},
   "cell_type": "markdown",
   "metadata": {},
   "source": [
    "### Step 3: Specify significance level ($\\alpha$)"
   ]
  },
  {
   "attachments": {},
   "cell_type": "markdown",
   "metadata": {},
   "source": [
    "Now that we have our hypotheses defined, we have to determine when do we say an observation is **statistically significant**. \n",
    "\n",
    "The level of significance is the **probability** of rejecting the null hypothesis when it is true. (*Represents the risk of making a Type I error, which is **rejecting a true null hypothesis**.*)\n",
    "\n",
    "We choose a threshold called **significance level $\\alpha$** and the level of significance is usually set at 0.05 or 0.01, but it can be adjusted based on the research question and the consequences of making a Type I error.\n",
    "\n",
    "A lower alpha level decreases the risk of Type I error, but it increases the risk of Type II error (failing to reject a false null hypothesis). Conversely, a higher alpha level increases the risk of Type I error, but it decreases the risk of Type II error."
   ]
  },
  {
   "attachments": {},
   "cell_type": "markdown",
   "metadata": {},
   "source": [
    "🤔 **How do you know the best level of significance? whether to chose 0.05 or 0.01?**\n",
    "\n",
    "* If the consequences of making a Type I error are severe (e.g., rejecting a null hypothesis that is actually true), then a lower level of significance (e.g., 0.01) should be used to decrease the risk of this error. \n",
    "* On the other hand, if the consequences of making a Type II error are severe (e.g., failing to reject a null hypothesis that is actually false), then a higher level of significance (e.g., 0.05) should be used to decrease the risk of this error."
   ]
  },
  {
   "attachments": {},
   "cell_type": "markdown",
   "metadata": {},
   "source": [
    "😤 **Is there a way to be sure about the level of significance?**\n",
    "\n",
    "* There is no single \"correct\" or \"best\" level of significance that can be applied to all research questions or contexts.\n",
    "\n",
    "* One way to determine the appropriate level of significance is to conduct a power analysis before collecting data. A power analysis can estimate the sample size needed to detect a statistically significant effect of a certain magnitude, given a specific level of significance, effect size, and power (i.e., the probability of correctly rejecting a false null hypothesis). This approach can help you make an informed decision about the level of significance that balances the risks of Type I and Type II errors.\n",
    "\n",
    "📝 In practice, the level of significance is often chosen based on conventions in the field or based on the standard level used in previous studies. However, it is important to keep in mind that the choice of the level of significance should be justified and clearly reported in the research report. Additionally, researchers can perform sensitivity analyses by varying the level of significance to see how the results change and to assess the robustness of the findings.\n"
   ]
  },
  {
   "attachments": {},
   "cell_type": "markdown",
   "metadata": {},
   "source": [
    "### Step 4: Calculate test statistic \n",
    "\n",
    "The **test statistic** is a numerical value that is calculated from sample data and is used to determine whether to reject or fail to reject the null hypothesis in a hypothesis test.\n",
    "\n",
    "Test statistic measures how far the observed data is from what would be expected if the null hypothesis were true.\n",
    "\n",
    "It is typically calculated by taking the difference between a sample statistic (e.g., sample mean, sample proportion) and the hypothesized value of the population parameter (i.e., the value specified in the null hypothesis), and then dividing that difference by an estimate of the standard error.\n",
    "\n",
    "The choice of test statistic depends on the research question and the type of data being analyzed. Commonly used test statistics include the: \n",
    ">>>>>* t-statistic, \n",
    ">>>>>* z-statistic, \n",
    ">>>>>* F-statistic, \n",
    ">>>>>* chi-square statistic.\n"
   ]
  },
  {
   "attachments": {},
   "cell_type": "markdown",
   "metadata": {},
   "source": [
    "The test statistic is used to calculate the **p-value**, which is the *probability of obtaining a test statistic as extreme or more extreme than the observed test statistic, assuming the null hypothesis is true.*"
   ]
  },
  {
   "attachments": {},
   "cell_type": "markdown",
   "metadata": {},
   "source": [
    "### Step 5: Calculate p-value\n"
   ]
  },
  {
   "attachments": {},
   "cell_type": "markdown",
   "metadata": {},
   "source": [
    "The primary purpose of a p-value is to measure the likelihood that the observed results are due to random variability rather than a true effect. It provides a way to assess the strength of evidence against the null hypothesis and make conclusions about the statistical significance of the results.\n",
    "\n",
    "This statement implies that the concept of p-value is closely linked to the null hypothesis. If the null hypothesis is accurate, and there is **no** meaningful relationship between the variables being tested, then any apparent correlation or association observed in our sample data would be due to random chance.\n",
    "\n",
    "The p-value represents the probability of observing a sample statistic (such as the mean or correlation coefficient) as extreme or more extreme than what we have observed, assuming that the null hypothesis is true and the data follows a standard normal distribution. This helps us understand how unusual or common our sample measurement is under the null hypothesis."
   ]
  },
  {
   "attachments": {},
   "cell_type": "markdown",
   "metadata": {},
   "source": [
    "![weuwee](https://i.pinimg.com/originals/60/b7/91/60b791a93d8a12d14bd5fa4b3e45ebc6.jpg)"
   ]
  },
  {
   "attachments": {},
   "cell_type": "markdown",
   "metadata": {},
   "source": [
    "### Step 6: Interpret $p$-value (reject or fail to reject the null hypothesis)"
   ]
  },
  {
   "attachments": {},
   "cell_type": "markdown",
   "metadata": {},
   "source": [
    "Assuming that smoking is not linked to lung cancer, a study examining their relationship produced a p-value of 0.1. This indicates that there is a 10% chance that the observed correlation between smoking and lung cancer is due to chance alone. Since this p-value is relatively high, we cannot reject the null hypothesis and cannot conclude that there is a significant association between smoking and lung cancer based on this study."
   ]
  },
  {
   "attachments": {},
   "cell_type": "markdown",
   "metadata": {},
   "source": [
    "* If $p \\lt \\alpha$, we reject the null hypothesis.:\n",
    "\n",
    "* If $p \\geq \\alpha$, we fail to reject the null hypothesis."
   ]
  },
  {
   "attachments": {},
   "cell_type": "markdown",
   "metadata": {},
   "source": [
    "When conducting a hypothesis test, if the obtained p-value is less than the pre-determined level of significance (p < α), we reject the null hypothesis and conclude that there is sufficient evidence to support the alternative hypothesis.\n",
    "\n",
    "Conversely, if the p-value is greater than or equal to the level of significance (p ≥ α), we fail to reject the null hypothesis and conclude that we do not have sufficient evidence to support the alternative hypothesis."
   ]
  },
  {
   "attachments": {},
   "cell_type": "markdown",
   "metadata": {},
   "source": [
    "> **NOTE** \n",
    "\n",
    "> This only tells us if there is a statistically significant difference not to what _degree_\n",
    "\n",
    "> ![](https://imgs.xkcd.com/comics/p_values.png)\n",
    "\n",
    "> ☝️ _Be careful how you interpret your p-value_"
   ]
  }
 ],
 "metadata": {
  "kernelspec": {
   "display_name": "Python 3.10.8 64-bit",
   "language": "python",
   "name": "python3"
  },
  "language_info": {
   "codemirror_mode": {
    "name": "ipython",
    "version": 3
   },
   "file_extension": ".py",
   "mimetype": "text/x-python",
   "name": "python",
   "nbconvert_exporter": "python",
   "pygments_lexer": "ipython3",
   "version": "3.11.3"
  },
  "orig_nbformat": 4,
  "vscode": {
   "interpreter": {
    "hash": "e7370f93d1d0cde622a1f8e1c04877d8463912d04d973331ad4851f04de6915a"
   }
  }
 },
 "nbformat": 4,
 "nbformat_minor": 2
}
